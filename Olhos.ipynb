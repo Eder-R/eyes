{
 "cells": [
  {
   "cell_type": "code",
   "execution_count": null,
   "id": "0405c0ed",
   "metadata": {},
   "outputs": [],
   "source": [
    "!c:/Python38/python.exe -m pip install tensorflow"
   ]
  },
  {
   "cell_type": "markdown",
   "id": "6974c703",
   "metadata": {},
   "source": [
    "# Olhos"
   ]
  },
  {
   "cell_type": "markdown",
   "id": "279c30e4",
   "metadata": {
    "tags": []
   },
   "source": [
    "## Código criado para utilização em visão computacional para reconhecimento de cones de transito\n"
   ]
  },
  {
   "cell_type": "markdown",
   "id": "8caf6e42",
   "metadata": {
    "jp-MarkdownHeadingCollapsed": true,
    "tags": []
   },
   "source": [
    "### Preparo"
   ]
  },
  {
   "cell_type": "code",
   "execution_count": 1,
   "id": "c76d5721",
   "metadata": {},
   "outputs": [],
   "source": [
    "import cv2, numpy as np\n",
    "from tensorflow import keras\n",
    "from keras.models import load_model\n",
    "dado = \"./others/train/keras_model.h5\""
   ]
  },
  {
   "cell_type": "markdown",
   "id": "cf158dce",
   "metadata": {
    "jp-MarkdownHeadingCollapsed": true,
    "tags": []
   },
   "source": [
    "### Instanciando a Machine"
   ]
  },
  {
   "cell_type": "code",
   "execution_count": 2,
   "id": "e1465f18",
   "metadata": {},
   "outputs": [
    {
     "name": "stdout",
     "output_type": "stream",
     "text": [
      "1/1 [==============================] - 1s 791ms/step\n",
      "1/1 [==============================] - 0s 38ms/step\n",
      "1/1 [==============================] - 0s 55ms/step\n",
      "1/1 [==============================] - 0s 37ms/step\n",
      "1/1 [==============================] - 0s 38ms/step\n",
      "1/1 [==============================] - 0s 38ms/step\n",
      "1/1 [==============================] - 0s 38ms/step\n",
      "1/1 [==============================] - 0s 35ms/step\n",
      "1/1 [==============================] - 0s 37ms/step\n",
      "1/1 [==============================] - 0s 38ms/step\n",
      "1/1 [==============================] - 0s 37ms/step\n"
     ]
    },
    {
     "ename": "IndexError",
     "evalue": "list index out of range",
     "output_type": "error",
     "traceback": [
      "\u001b[1;31m---------------------------------------------------------------------------\u001b[0m",
      "\u001b[1;31mIndexError\u001b[0m                                Traceback (most recent call last)",
      "Cell \u001b[1;32mIn[2], line 6\u001b[0m\n\u001b[0;32m      3\u001b[0m data \u001b[38;5;241m=\u001b[39m np\u001b[38;5;241m.\u001b[39mndarray(shape\u001b[38;5;241m=\u001b[39m(\u001b[38;5;241m1\u001b[39m, \u001b[38;5;241m224\u001b[39m, \u001b[38;5;241m224\u001b[39m, \u001b[38;5;241m3\u001b[39m), dtype\u001b[38;5;241m=\u001b[39mnp\u001b[38;5;241m.\u001b[39mfloat32)\n\u001b[0;32m      4\u001b[0m classes \u001b[38;5;241m=\u001b[39m [\u001b[38;5;124m\"\u001b[39m\u001b[38;5;124mcones\u001b[39m\u001b[38;5;124m\"\u001b[39m]\n\u001b[1;32m----> 6\u001b[0m \u001b[38;5;28;01mclass\u001b[39;00m \u001b[38;5;21;01mneuronium\u001b[39;00m():\n\u001b[0;32m      8\u001b[0m     \u001b[38;5;28;01mdef\u001b[39;00m \u001b[38;5;21mpreProcess\u001b[39m(img):\n\u001b[0;32m      9\u001b[0m         imgPre \u001b[38;5;241m=\u001b[39m cv2\u001b[38;5;241m.\u001b[39mGaussianBlur(img, (\u001b[38;5;241m5\u001b[39m,\u001b[38;5;241m5\u001b[39m), \u001b[38;5;241m3\u001b[39m)\n",
      "Cell \u001b[1;32mIn[2], line 42\u001b[0m, in \u001b[0;36mneuronium\u001b[1;34m()\u001b[0m\n\u001b[0;32m     40\u001b[0m         cv2\u001b[38;5;241m.\u001b[39mrectangle(img, (x,y), (x\u001b[38;5;241m+\u001b[39mw, y\u001b[38;5;241m+\u001b[39mh), (\u001b[38;5;241m0\u001b[39m,\u001b[38;5;241m255\u001b[39m,\u001b[38;5;241m0\u001b[39m), \u001b[38;5;241m2\u001b[39m)\n\u001b[0;32m     41\u001b[0m         cut \u001b[38;5;241m=\u001b[39m img[y:y \u001b[38;5;241m+\u001b[39mh, x:x \u001b[38;5;241m+\u001b[39mw]\n\u001b[1;32m---> 42\u001b[0m         classe, conf \u001b[38;5;241m=\u001b[39m \u001b[43mrecogCones\u001b[49m\u001b[43m(\u001b[49m\u001b[43mcut\u001b[49m\u001b[43m)\u001b[49m\n\u001b[0;32m     43\u001b[0m         cv2\u001b[38;5;241m.\u001b[39mputText(img, \u001b[38;5;28mstr\u001b[39m(classe), (x,y), cv2\u001b[38;5;241m.\u001b[39mFONT_HERSHEY_SIMPLEX,\u001b[38;5;241m0.5\u001b[39m, (\u001b[38;5;241m255\u001b[39m,\u001b[38;5;241m255\u001b[39m,\u001b[38;5;241m255\u001b[39m), \u001b[38;5;241m2\u001b[39m )\n\u001b[0;32m     45\u001b[0m cv2\u001b[38;5;241m.\u001b[39mimshow(\u001b[38;5;124m'\u001b[39m\u001b[38;5;124mIMG\u001b[39m\u001b[38;5;124m'\u001b[39m, img)\n",
      "Cell \u001b[1;32mIn[2], line 23\u001b[0m, in \u001b[0;36mneuronium.recogCones\u001b[1;34m(img)\u001b[0m\n\u001b[0;32m     21\u001b[0m index \u001b[38;5;241m=\u001b[39m np\u001b[38;5;241m.\u001b[39margmax(prediction)\n\u001b[0;32m     22\u001b[0m trustPercent \u001b[38;5;241m=\u001b[39m prediction[\u001b[38;5;241m0\u001b[39m][index]\n\u001b[1;32m---> 23\u001b[0m classe \u001b[38;5;241m=\u001b[39m \u001b[43mclasses\u001b[49m\u001b[43m[\u001b[49m\u001b[43mindex\u001b[49m\u001b[43m]\u001b[49m\n\u001b[0;32m     24\u001b[0m \u001b[38;5;28;01mreturn\u001b[39;00m classe,trustPercent\n",
      "\u001b[1;31mIndexError\u001b[0m: list index out of range"
     ]
    }
   ],
   "source": [
    "video = cv2.VideoCapture(0, cv2.CAP_DSHOW)\n",
    "model = load_model(dado, compile = False)\n",
    "data = np.ndarray(shape=(1, 224, 224, 3), dtype=np.float32)\n",
    "classes = [\"cones\"]\n",
    "\n",
    "class neuronium():\n",
    "\n",
    "    def preProcess(img):\n",
    "        imgPre = cv2.GaussianBlur(img, (5,5), 3)\n",
    "        imgPre = cv2.Canny(imgPre, 90, 140)\n",
    "        kernel = np.ones((4,4), np.uint8)\n",
    "        imgPre = cv2.dilate(imgPre, kernel, iterations=3)\n",
    "        imgPre = cv2.erode(imgPre, kernel, iterations=3)\n",
    "        return imgPre \n",
    "    def recogCones(img):\n",
    "        imgCone = cv2.resize(img, (224, 224))\n",
    "        imgCone = np.asarray(imgCone)\n",
    "        imgConeNormalize = (imgCone.astype(np.float32)/127.0)-1\n",
    "        data[0] = imgConeNormalize\n",
    "        prediction = model.predict(data)\n",
    "        index = np.argmax(prediction)\n",
    "        trustPercent = prediction[0][index]\n",
    "        classe = classes[index]\n",
    "        return classe,trustPercent  \n",
    "    \n",
    "    while True:\n",
    "        _,img = video.read()\n",
    "        try:\n",
    "            img = cv2.resize(img, (640, 480))\n",
    "        except:\n",
    "            break\n",
    "\n",
    "        imgPre = preProcess(img)\n",
    "        contours, hi = cv2.findContours(imgPre, cv2.RETR_EXTERNAL, cv2.CHAIN_APPROX_NONE)\n",
    "        \n",
    "        for cnt in contours:\n",
    "            area = cv2.contourArea(cnt)\n",
    "            if area > 2000:\n",
    "                x,y,w,h = cv2.boundingRect(cnt)\n",
    "                cv2.rectangle(img, (x,y), (x+w, y+h), (0,255,0), 2)\n",
    "                cut = img[y:y +h, x:x +w]\n",
    "                classe, conf = recogCones(cut)\n",
    "                cv2.putText(img, str(classe), (x,y), cv2.FONT_HERSHEY_SIMPLEX,0.5, (255,255,255), 2 )\n",
    "        \n",
    "        cv2.imshow('IMG', img)\n",
    "        cv2.imshow('IMG PrePro', imgPre)\n",
    "        cv2.waitKey(1)"
   ]
  },
  {
   "cell_type": "code",
   "execution_count": null,
   "id": "4f74ce6e",
   "metadata": {},
   "outputs": [],
   "source": []
  }
 ],
 "metadata": {
  "kernelspec": {
   "display_name": "Python38",
   "language": "python",
   "name": "neuronium"
  },
  "language_info": {
   "codemirror_mode": {
    "name": "ipython",
    "version": 3
   },
   "file_extension": ".py",
   "mimetype": "text/x-python",
   "name": "python",
   "nbconvert_exporter": "python",
   "pygments_lexer": "ipython3",
   "version": "3.8.0"
  }
 },
 "nbformat": 4,
 "nbformat_minor": 5
}
