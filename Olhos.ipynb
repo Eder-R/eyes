{
 "cells": [
  {
   "cell_type": "code",
   "execution_count": null,
   "id": "0405c0ed",
   "metadata": {},
   "outputs": [],
   "source": [
    "!c:/Python38/python.exe -m pip install tensorflow"
   ]
  },
  {
   "cell_type": "markdown",
   "id": "6974c703",
   "metadata": {},
   "source": [
    "# Olhos"
   ]
  },
  {
   "cell_type": "markdown",
   "id": "279c30e4",
   "metadata": {
    "tags": []
   },
   "source": [
    "## Código criado para utilização em visão computacional para reconhecimento de cones de transito\n"
   ]
  },
  {
   "cell_type": "markdown",
   "id": "8caf6e42",
   "metadata": {
    "jp-MarkdownHeadingCollapsed": true,
    "tags": []
   },
   "source": [
    "### Preparo"
   ]
  },
  {
   "cell_type": "code",
   "execution_count": null,
   "id": "c76d5721",
   "metadata": {},
   "outputs": [],
   "source": [
    "import cv2, numpy as np\n",
    "from tensorflow import keras\n",
    "from keras.models import load_model\n",
    "dado = \"./others/train/keras_model.h5\""
   ]
  },
  {
   "cell_type": "markdown",
   "id": "cf158dce",
   "metadata": {
    "tags": []
   },
   "source": [
    "### Instanciando a Machine"
   ]
  },
  {
   "cell_type": "code",
   "execution_count": null,
   "id": "e1465f18",
   "metadata": {},
   "outputs": [],
   "source": [
    "video = cv2.VideoCapture(0, cv2.CAP_DSHOW)\n",
    "model = load_model(dado, compile = False)\n",
    "data = np.ndarray(shape=(1, 224, 224, 3), dtype=np.float32)\n",
    "classes = [\"cones\"]\n",
    "\n",
    "class neuronium():\n",
    "\n",
    "    def preProcess(img):\n",
    "        imgPre = cv2.GaussianBlur(img, (5,5), 3)\n",
    "        imgPre = cv2.Canny(imgPre, 90, 140)\n",
    "        kernel = np.ones((4,4), np.uint8)\n",
    "        imgPre = cv2.dilate(imgPre, kernel, iterations=3)\n",
    "        imgPre = cv2.erode(imgPre, kernel, iterations=3)\n",
    "        return imgPre \n",
    "    def recogCones(img):\n",
    "        imgCone = cv2.resize(img, (224, 224))\n",
    "        imgCone = np.asarray(imgCone)\n",
    "        imgConeNormalize = (imgCone.astype(np.float32)/127.0)-1\n",
    "        data[0] = imgConeNormalize\n",
    "        prediction = model.predict(data)\n",
    "        index = np.argmax(prediction)\n",
    "        trustPercent = prediction[0][index]\n",
    "        classe = classes[index]\n",
    "        return classe,trustPercent  \n",
    "    \n",
    "    while True:\n",
    "        _,img = video.read()\n",
    "        try:\n",
    "            img = cv2.resize(img, (640, 480))\n",
    "        except:\n",
    "            break\n",
    "\n",
    "        imgPre = preProcess(img)\n",
    "        contours, hi = cv2.findContours(imgPre, cv2.RETR_EXTERNAL, cv2.CHAIN_APPROX_NONE)\n",
    "        \n",
    "        for cnt in contours:\n",
    "            area = cv2.contourArea(cnt)\n",
    "            if area > 2000:\n",
    "                x,y,w,h = cv2.boundingRect(cnt)\n",
    "                cv2.rectangle(img, (x,y), (x+w, y+h), (0,255,0), 2)\n",
    "                cut = img[y:y +h, x:x +w]\n",
    "                classe, conf = recogCones(cut)\n",
    "                cv2.putText(img, str(classe), (x,y), cv2.FONT_HERSHEY_SIMPLEX,0.5, (255,255,255), 2 )\n",
    "        \n",
    "        cv2.imshow('IMG', img)\n",
    "        cv2.imshow('IMG PrePro', imgPre)\n",
    "        cv2.waitKey(1)"
   ]
  },
  {
   "cell_type": "code",
   "execution_count": null,
   "id": "4f74ce6e",
   "metadata": {},
   "outputs": [],
   "source": []
  }
 ],
 "metadata": {
  "kernelspec": {
   "display_name": "Python38",
   "language": "python",
   "name": "neuronium"
  },
  "language_info": {
   "codemirror_mode": {
    "name": "ipython",
    "version": 3
   },
   "file_extension": ".py",
   "mimetype": "text/x-python",
   "name": "python",
   "nbconvert_exporter": "python",
   "pygments_lexer": "ipython3",
   "version": "3.8.0"
  }
 },
 "nbformat": 4,
 "nbformat_minor": 5
}
